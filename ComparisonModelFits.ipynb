{
 "cells": [
  {
   "cell_type": "code",
   "execution_count": 1,
   "metadata": {},
   "outputs": [],
   "source": [
    "import numpy as np\n",
    "from matplotlib import pyplot as plt\n",
    "import pandas as pd\n"
   ]
  },
  {
   "cell_type": "code",
   "execution_count": 2,
   "metadata": {},
   "outputs": [],
   "source": [
    "fitsGA = pd.read_csv('../KineticsofLeakageGramicidin/FittingParametersGramicidinA3nM.csv')\n",
    "fitsOmpF = pd.read_csv('../KineticsofLeakageOmpF/FittingParametersOmpF.csv')"
   ]
  },
  {
   "cell_type": "code",
   "execution_count": 15,
   "metadata": {},
   "outputs": [
    {
     "data": {
      "text/plain": [
       "(array([79., 90., 41., 41., 25., 19., 10.,  4.]),\n",
       " array([0.00445714, 0.01012499, 0.01579283, 0.02146068, 0.02712852,\n",
       "        0.03279637, 0.03846421, 0.04413206, 0.0497999 ]),\n",
       " <a list of 8 Patch objects>)"
      ]
     },
     "execution_count": 15,
     "metadata": {},
     "output_type": "execute_result"
    },
    {
     "data": {
      "image/png": "[encoded data removed]",
      "text/plain": [
       "<Figure size 432x288 with 4 Axes>"
      ]
     },
     "metadata": {
      "needs_background": "light"
     },
     "output_type": "display_data"
    }
   ],
   "source": [
    "fig, axs = plt.subplots(2,2)\n",
    "\n",
    "axs[0][0].hist(fitsOmpF['dc']/fitsOmpF['c'],8)\n",
    "axs[0][1].hist(fitsOmpF['dk']/fitsOmpF['k'],8)\n",
    "\n",
    "axs[1][0].hist(fitsGA['dc']/fitsGA['c'],8)\n",
    "axs[1][1].hist(fitsGA['dk']/fitsGA['k'],8)"
   ]
  },
  {
   "cell_type": "code",
   "execution_count": 14,
   "metadata": {},
   "outputs": [
    {
     "data": {
      "text/plain": [
       "(array([254.,   5.,  21.,  14.,  10.,   0.,   2.,   2.,   0.,   1.]),\n",
       " array([7.79567993e-06, 1.33011956e-04, 2.58228231e-04, 3.83444507e-04,\n",
       "        5.08660783e-04, 6.33877058e-04, 7.59093334e-04, 8.84309610e-04,\n",
       "        1.00952589e-03, 1.13474216e-03, 1.25995844e-03]),\n",
       " <a list of 10 Patch objects>)"
      ]
     },
     "execution_count": 14,
     "metadata": {},
     "output_type": "execute_result"
    },
    {
     "data": {
      "image/png": "[encoded data removed]",
      "text/plain": [
       "<Figure size 432x288 with 4 Axes>"
      ]
     },
     "metadata": {
      "needs_background": "light"
     },
     "output_type": "display_data"
    }
   ],
   "source": [
    "fig, axs = plt.subplots(2,2)\n",
    "\n",
    "axs[0][0].hist(fitsOmpF['c'],10)\n",
    "axs[0][1].hist(fitsOmpF['k'],10)\n",
    "\n",
    "axs[1][0].hist(fitsGA['c'],10)\n",
    "axs[1][1].hist(fitsGA['k'],10)"
   ]
  },
  {
   "cell_type": "code",
   "execution_count": null,
   "metadata": {},
   "outputs": [],
   "source": []
  }
 ],
 "metadata": {
  "kernelspec": {
   "display_name": "Python 3",
   "language": "python",
   "name": "python3"
  },
  "language_info": {
   "codemirror_mode": {
    "name": "ipython",
    "version": 3
   },
   "file_extension": ".py",
   "mimetype": "text/x-python",
   "name": "python",
   "nbconvert_exporter": "python",
   "pygments_lexer": "ipython3",
   "version": "3.7.3"
  }
 },
 "nbformat": 4,
 "nbformat_minor": 2
}
