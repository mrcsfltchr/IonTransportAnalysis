{
 "cells": [
  {
   "cell_type": "code",
   "execution_count": 21,
   "metadata": {},
   "outputs": [],
   "source": [
    "from scipy.special import erf\n",
    "from scipy.signal import savgol_filter\n",
    "from matplotlib import pyplot as plt\n",
    "import numpy as np\n",
    "from glob import glob\n",
    "import tifffile as tf\n",
    "import pandas as pd\n",
    "from scipy.optimize import curve_fit"
   ]
  },
  {
   "cell_type": "code",
   "execution_count": 47,
   "metadata": {},
   "outputs": [
    {
     "name": "stderr",
     "output_type": "stream",
     "text": [
      "/home/marcus/anaconda3/lib/python3.7/site-packages/ipykernel_launcher.py:15: RuntimeWarning: divide by zero encountered in true_divide\n",
      "  from ipykernel import kernelapp as app\n",
      "/home/marcus/anaconda3/lib/python3.7/site-packages/ipykernel_launcher.py:15: RuntimeWarning: invalid value encountered in true_divide\n",
      "  from ipykernel import kernelapp as app\n"
     ]
    }
   ],
   "source": [
    "t = np.arange(-100*60,100*60,1)\n",
    "\n",
    "# parameters\n",
    "\n",
    "D1 = 4e-10 #m^2s^-1\n",
    "D2 = 1e-9 #m^2s^-1\n",
    "\n",
    "Q = 20e-9/3600 #m^3s-1\n",
    "A = (30e-6)*(800e-6)\n",
    "R_tube = 1.5e-3 #m\n",
    "L_tube = 0.15 #m\n",
    "V = np.pi*R_tube**2*L_tube\n",
    "\n",
    "def erf_input(D,k,t_c):\n",
    "    return (Q*(t-t_c)/A)/(np.sqrt(4*np.pi*k*D*V/Q))\n",
    "z1 = erf_input(D1,0,1)\n",
    "z2 = erf_input(D2,0,1)\n",
    "y1 = 0.5*(1+erf(z1))\n",
    "y2 = 0.5*(1+erf(z2))\n",
    "\n",
    "def background(t,k,t_c):\n",
    "    D = 4e-10 #m^2s^-1\n",
    "    z = erf_input(D,k,t_c)\n",
    "    \n",
    "    return_val = 0.5*(1+erf(z))\n",
    "    \n",
    "    return return_val"
   ]
  },
  {
   "cell_type": "code",
   "execution_count": 33,
   "metadata": {},
   "outputs": [
    {
     "data": {
      "text/plain": [
       "array([0., 0., 0., ..., 1., 1., 1.])"
      ]
     },
     "execution_count": 33,
     "metadata": {},
     "output_type": "execute_result"
    }
   ],
   "source": [
    "0.5*(1+erf(erf_input(1e-10,k = 1,t_c = 0)))"
   ]
  },
  {
   "cell_type": "code",
   "execution_count": 34,
   "metadata": {},
   "outputs": [
    {
     "data": {
      "text/plain": [
       "[<matplotlib.lines.Line2D at 0x7f54c7806470>]"
      ]
     },
     "execution_count": 34,
     "metadata": {},
     "output_type": "execute_result"
    }
   ],
   "source": [
    "%matplotlib qt\n",
    "fig, ax = plt.subplots(1,1)\n",
    "\n",
    "ax.plot(t,y1)\n",
    "ax.plot(t,y2)"
   ]
  },
  {
   "cell_type": "code",
   "execution_count": 8,
   "metadata": {},
   "outputs": [],
   "source": [
    "def smooth_decay(I,t0,t1=-1,smoothing_0 = 17,smoothing_1 = 51):\n",
    "    \n",
    "    \n",
    "    if not  smoothing_0 == 0:\n",
    "        \n",
    "        if smoothing_0 > t1-t0 and t1 != -1:\n",
    "            raise ValueError('Smoothing parameter cannot be greater than input data')\n",
    "\n",
    "        smoothed_decay_0 = I.iloc[t0:t1]\n",
    "\n",
    "        smoothed_decay_0 = savgol_filter(smoothed_decay_0,smoothing_0,1)\n",
    "    else:\n",
    "        smoothed_decay_0 = I.iloc[t0:t1]\n",
    "    \n",
    "    if t1 != -1:\n",
    "        \n",
    "        smoothed_decay_1 = I.iloc[t1:]\n",
    "        smoothed_decay_1  = savgol_filter(smoothed_decay_1,smoothing_1,1)\n",
    "        \n",
    "        smoothed_decay = np.concatenate((smoothed_decay_0,smoothed_decay_1))\n",
    "    else:\n",
    "        smoothed_decay = smoothed_decay_0\n",
    "   \n",
    "    if not smoothing_0 == 0:\n",
    "        final_smoothed_decay = savgol_filter(smoothed_decay,smoothing_0,1)\n",
    "    else:\n",
    "        final_smoothed_decay = smoothed_decay\n",
    "    return final_smoothed_decay\n",
    "                                 "
   ]
  },
  {
   "cell_type": "code",
   "execution_count": 37,
   "metadata": {},
   "outputs": [
    {
     "name": "stderr",
     "output_type": "stream",
     "text": [
      "OME series: invalid TiffData index\n",
      "OME series: invalid TiffData index\n",
      "OME series: invalid TiffData index\n",
      "OME series: invalid TiffData index\n"
     ]
    }
   ],
   "source": [
    "tifs = glob('/media/marcus/9C33-6BBD/20210427_OmpF_PCPG_KCL_Flush_2-20210427T184510Z-002/20210427_OmpF_PCPG_KCL_Flush_2/20210427_OmpF_PCPG_KCL_Flush_2_MMStack_Pos0.ome.tif')\n",
    "tif = tifs[-1]\n",
    "\n",
    "dt = 9/60\n",
    "\n",
    "vid = tf.TiffFile(tif)\n",
    "\n",
    "frames = vid.asarray()\n",
    "bg = np.median(frames[:,447:512,396:440],axis = (1,2))\n",
    "# bg = bg[:\n",
    "bg = np.array(bg)-np.mean(bg[-20:-10])\n",
    "bg = bg/np.max(bg)\n",
    "bg_k = 1-bg\n",
    "# make pandas dataframe \n",
    "\n",
    "bg= pd.DataFrame({'Bg': bg})\n",
    "smoothed_bg = smooth_decay(bg['Bg'],0,150,smoothing_0=7,smoothing_1=11)\n"
   ]
  },
  {
   "cell_type": "markdown",
   "metadata": {},
   "source": [
    "# Fit erf to background intensity\n"
   ]
  },
  {
   "cell_type": "code",
   "execution_count": 48,
   "metadata": {},
   "outputs": [
    {
     "name": "stderr",
     "output_type": "stream",
     "text": [
      "/home/marcus/anaconda3/lib/python3.7/site-packages/ipykernel_launcher.py:15: RuntimeWarning: invalid value encountered in sqrt\n",
      "  from ipykernel import kernelapp as app\n"
     ]
    }
   ],
   "source": [
    "\n",
    "# estimate the offset time by the 0.5 point time\n",
    "# the relative diffusion to ideal diffusion constant needs to be estimated with experience\n",
    "\n",
    "p0 = [0.5,34]\n",
    "\n",
    "t = dt*np.arange(bg_k.shape[0])\n",
    "\n",
    "params = curve_fit(background,t,bg_k,p0)\n",
    "\n"
   ]
  },
  {
   "cell_type": "code",
   "execution_count": 49,
   "metadata": {},
   "outputs": [],
   "source": [
    "bg_bar = background(t,2*params[0][0],params[0][1])"
   ]
  },
  {
   "cell_type": "code",
   "execution_count": 50,
   "metadata": {},
   "outputs": [
    {
     "data": {
      "text/plain": [
       "[<matplotlib.lines.Line2D at 0x7f54c7927160>]"
      ]
     },
     "execution_count": 50,
     "metadata": {},
     "output_type": "execute_result"
    }
   ],
   "source": [
    "fig, ax = plt.subplots(1,1)\n",
    "ax.plot(t,bg_bar)\n",
    "ax.plot(t,bg_k)"
   ]
  },
  {
   "cell_type": "code",
   "execution_count": null,
   "metadata": {},
   "outputs": [],
   "source": []
  }
 ],
 "metadata": {
  "kernelspec": {
   "display_name": "Python 3",
   "language": "python",
   "name": "python3"
  },
  "language_info": {
   "codemirror_mode": {
    "name": "ipython",
    "version": 3
   },
   "file_extension": ".py",
   "mimetype": "text/x-python",
   "name": "python",
   "nbconvert_exporter": "python",
   "pygments_lexer": "ipython3",
   "version": "3.7.3"
  }
 },
 "nbformat": 4,
 "nbformat_minor": 4
}
