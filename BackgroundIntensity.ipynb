{
 "cells": [
  {
   "cell_type": "code",
   "execution_count": 4,
   "metadata": {},
   "outputs": [],
   "source": [
    "import tifffile as tf\n",
    "import numpy as np\n",
    "import pandas as pd\n",
    "from matplotlib import pyplot as plt\n",
    "from scipy.signal import savgol_filter, find_peaks\n",
    "import os\n"
   ]
  },
  {
   "cell_type": "code",
   "execution_count": 14,
   "metadata": {},
   "outputs": [],
   "source": [
    "# choose video\n",
    "\n",
    "VID_DIRs = {'260pM':'/media/marcus/9C33-6BBD/20210920_GramA_260pM07_3nM815_1mMKCl_1/260pM/',\n",
    "            '2.6nM': '/media/marcus/9C33-6BBD/20210920_GramA_260pM07_3nM815_1mMKCl_1/3nM/' \n",
    "           }\n",
    "\n",
    "\n",
    "vids ={'260pM':'20210920_GramA_260pM07_3nM815_1mMKCl_1_MMStack_Pos3.ome.tif'\n",
    "       , '2.6nM': '20210920_GramA_260pM07_3nM815_1mMKCl_1_MMStack_Pos9.ome.tif' }\n",
    "\n",
    "\n",
    "#smoothing\n",
    "\n",
    "smoothing = 17\n",
    "grad_smooth = 81\n",
    "\n",
    "\n",
    "# set ROI for background\n",
    "\n",
    "rois = {}\n",
    "       \n",
    "#rois in format [x_left,y_top,x_right,y_bottom]\n",
    "       \n",
    "rois['260pM']=[149,4,314,45]\n",
    "rois['2.6nM']=[357,367,459,486]\n",
    "\n",
    "t_start = {'260pM':45 , '2.6nM':30}\n",
    "       \n",
    "\n",
    "dts = {key:0.25 for key in VID_DIRs.keys()}\n",
    "\n",
    "# peak finding\n",
    "\n",
    "rel_peak_height = 0.5\n",
    "distance_between_peaks = 10"
   ]
  },
  {
   "cell_type": "code",
   "execution_count": 10,
   "metadata": {},
   "outputs": [
    {
     "data": {
      "text/plain": [
       "{'260pM': [149, 4, 314, 45], '2.6nM': [357, 367, 459, 486]}"
      ]
     },
     "execution_count": 10,
     "metadata": {},
     "output_type": "execute_result"
    }
   ],
   "source": [
    "rois"
   ]
  },
  {
   "cell_type": "code",
   "execution_count": 15,
   "metadata": {},
   "outputs": [
    {
     "name": "stderr",
     "output_type": "stream",
     "text": [
      "OME series: not an ome-tiff master file\n",
      "OME series: not an ome-tiff master file\n"
     ]
    }
   ],
   "source": [
    "backgrounds = {}\n",
    "grads = {}\n",
    "peaks = {}\n",
    "ts = {}\n",
    "for key in vids.keys():\n",
    "    \n",
    "    video = tf.TiffFile(os.path.join(VID_DIRs[key],vids[key]))\n",
    "\n",
    "    frames = video.asarray()\n",
    "\n",
    "    x_left = rois[key][0]\n",
    "    y_top = rois[key][1]\n",
    "    x_right = rois[key][2]\n",
    "    y_bottom = rois[key][3]\n",
    "\n",
    "\n",
    "    roi = frames[t_start[key]:,y_top:y_bottom,x_left:x_right]\n",
    "\n",
    "    background = np.median(roi,axis = (1,2))\n",
    "    background = savgol_filter(background,smoothing,1)\n",
    "    background = background - np.mean(background[:t_start[key]])\n",
    "    background = background/np.max(background)\n",
    "    \n",
    "    backgrounds[key] = background\n",
    "    \n",
    "    grad = np.gradient(background)\n",
    "    grad = savgol_filter(grad,grad_smooth,1)\n",
    "    grad = grad/np.max(grad)\n",
    "\n",
    "    grads[key] = grad\n",
    "    \n",
    "    peak = find_peaks(np.absolute(grad),height=rel_peak_height,distance=distance_between_peaks)\n",
    "    peak = peak[0]\n",
    "    peak = np.append(peak,len(background))\n",
    "\n",
    "    peaks[key] = peak\n",
    "    t = dts[key]*np.arange(len(background))\n",
    "    ts[key]= t"
   ]
  },
  {
   "cell_type": "code",
   "execution_count": 16,
   "metadata": {},
   "outputs": [
    {
     "data": {
      "text/plain": [
       "{'260pM': array([160, 374, 866]), '2.6nM': array([179, 262, 881])}"
      ]
     },
     "execution_count": 16,
     "metadata": {},
     "output_type": "execute_result"
    }
   ],
   "source": [
    "peaks"
   ]
  },
  {
   "cell_type": "code",
   "execution_count": 22,
   "metadata": {},
   "outputs": [],
   "source": [
    "%matplotlib qt\n",
    "fig,ax = plt.subplots(2,1)\n",
    "\n",
    "for i,key in enumerate(backgrounds.keys()):\n",
    "\n",
    "    t = ts[key]\n",
    "    background = backgrounds[key]\n",
    "    peak = peaks[key]\n",
    "    ax[i].plot(t,background)\n",
    "\n",
    "    for j in range(1,len(peak)):\n",
    "        ax[i].fill_between(dts[key]*np.arange(peak[j-1],peak[j]),np.zeros((peak[j]-peak[j-1],)),background[peak[j-1]:peak[j]],linestyles = 'dashed',alpha = 0.25)\n",
    "\n",
    "    ax[i].tick_params(direction = 'in',left = True,right = True,bottom = True, top = True,length = 7)\n",
    "\n",
    "    x_ticks = [0,100,200]\n",
    "\n",
    "    y_ticks = [0,0.5,1]\n",
    "\n",
    "    ax[i].set_xticks(x_ticks)\n",
    "    ax[i].set_xticklabels(x_ticks,fontsize = 15)\n",
    "    ax[i].set_yticks(y_ticks)\n",
    "    ax[i].set_yticklabels(y_ticks,fontsize = 15)\n",
    "\n",
    "    ax[i].set_ylabel('Rel I. [a.u]',fontsize = 18)\n",
    "    ax[i].set_xlabel('Time [mins]',fontsize = 18)\n"
   ]
  },
  {
   "cell_type": "code",
   "execution_count": null,
   "metadata": {},
   "outputs": [],
   "source": []
  }
 ],
 "metadata": {
  "kernelspec": {
   "display_name": "Python 3",
   "language": "python",
   "name": "python3"
  },
  "language_info": {
   "codemirror_mode": {
    "name": "ipython",
    "version": 3
   },
   "file_extension": ".py",
   "mimetype": "text/x-python",
   "name": "python",
   "nbconvert_exporter": "python",
   "pygments_lexer": "ipython3",
   "version": "3.7.3"
  }
 },
 "nbformat": 4,
 "nbformat_minor": 2
}
