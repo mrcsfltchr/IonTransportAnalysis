{
 "cells": [
  {
   "cell_type": "code",
   "execution_count": 12,
   "metadata": {},
   "outputs": [],
   "source": [
    "import pandas as pd\n",
    "import numpy as np\n",
    "from matplotlib import pyplot as plt\n",
    "from glob import glob\n",
    "from scipy.optimize import curve_fit"
   ]
  },
  {
   "cell_type": "code",
   "execution_count": 2,
   "metadata": {},
   "outputs": [
    {
     "name": "stdout",
     "output_type": "stream",
     "text": [
      "['Permeabilities_GramicidinA_260pM20210920.csv'\n",
      " 'Permeabilities_GramicidinA_3nM_20210920.csv'\n",
      " 'Permeabilities_OmpF_20210427.csv' 'Permeabilities_GUV.csv']\n",
      "[0 1 2 3]\n",
      "[0 1 2 3]\n",
      "[0 1 2 3]\n",
      "[0 1 2 3]\n"
     ]
    }
   ],
   "source": [
    "exps = ['GramA 2.6nM','GramA 260pM20210920','GUV','OmpF']\n",
    "path_identifier = ['3nM','260pM20210920','GUV','OmpF']\n",
    "\n",
    "paths = np.array(glob('Permeabilities*.csv'))\n",
    "print(paths)\n",
    "exp_hash = {}\n",
    "positions = np.arange(len(paths))\n",
    "\n",
    "for i,path_id in enumerate(path_identifier):\n",
    "    for position,path in enumerate(paths[positions]):\n",
    "        if path.find(path_id) != -1:\n",
    "            \n",
    "            exp_hash[exps[i]] = path\n",
    "#             positions = np.concatenate((positions[:position],positions[position+1:]))\n",
    "            print(positions)"
   ]
  },
  {
   "cell_type": "code",
   "execution_count": 13,
   "metadata": {},
   "outputs": [
    {
     "data": {
      "text/plain": [
       "{'GramA 2.6nM': 'Permeabilities_GramicidinA_3nM_20210920.csv',\n",
       " 'GramA 260pM20210920': 'Permeabilities_GramicidinA_260pM20210920.csv',\n",
       " 'GUV': 'Permeabilities_GUV.csv',\n",
       " 'OmpF': 'Permeabilities_OmpF_20210427.csv'}"
      ]
     },
     "execution_count": 13,
     "metadata": {},
     "output_type": "execute_result"
    }
   ],
   "source": [
    "exp_hash"
   ]
  },
  {
   "cell_type": "code",
   "execution_count": null,
   "metadata": {},
   "outputs": [],
   "source": []
  },
  {
   "cell_type": "code",
   "execution_count": 19,
   "metadata": {},
   "outputs": [],
   "source": [
    "\n",
    "dfs = {exps[i]: pd.read_csv(exp_hash[exps[i]]) for i in range(len(exps))}"
   ]
  },
  {
   "cell_type": "code",
   "execution_count": 5,
   "metadata": {},
   "outputs": [],
   "source": [
    "%matplotlib qt\n",
    "fig, axs  = plt.subplots(1,len(dfs.keys()))\n",
    "\n",
    "for i,key in enumerate(dfs.keys()):\n",
    "    \n",
    "    rel_err = dfs[key]['dP/P'].to_numpy().astype(float)\n",
    "    P = dfs[key]['P cms^-1'].to_numpy().astype(float)\n",
    "    rel_err = rel_err[P > 0]\n",
    "    P = P[P > 0]\n",
    "\n",
    "    \n",
    "    axs[i].hist(np.log10(P[rel_err < 0.1]),'sturges')\n",
    "    \n",
    "    x_lab = [-8,-6.5,-5]\n",
    "    y_lab = [0,5,10]\n",
    "    \n",
    "    axs[i].set_xticks(x_lab)\n",
    "    axs[i].set_xticklabels(x_lab,fontsize = 15)\n",
    "    \n",
    "    axs[i].set_yticks(y_lab)\n",
    "    axs[i].set_yticklabels(y_lab,fontsize = 15)\n",
    "    \n",
    "    axs[i].set_xlim([-8.5,-4.5])\n",
    "    axs[i].set_ylim([0,11])\n",
    "    \n",
    "    axs[i].set_title(key)"
   ]
  },
  {
   "cell_type": "code",
   "execution_count": 83,
   "metadata": {},
   "outputs": [
    {
     "name": "stdout",
     "output_type": "stream",
     "text": [
      "['#1f77b4', '#ff7f0e', '#2ca02c', '#d62728', '#9467bd', '#8c564b', '#e377c2', '#7f7f7f', '#bcbd22', '#17becf']\n"
     ]
    }
   ],
   "source": [
    "print(plt.rcParams['axes.prop_cycle'].by_key()['color'])"
   ]
  },
  {
   "cell_type": "code",
   "execution_count": 32,
   "metadata": {},
   "outputs": [],
   "source": [
    "# now when happy with the settings arrange on one plot\n",
    "fig, ax  = plt.subplots(1,1)\n",
    "\n",
    "bins = {'GramA 2.6nM': 8, 'GramA 260pM20210920': 5,'GUV':8,'OmpF':6}\n",
    "for i,key in enumerate(dfs.keys()):\n",
    "    if key not in ['GUV','OmpF']:\n",
    "        continue\n",
    "    rel_err = dfs[key]['dP/P'].to_numpy().astype(float)\n",
    "    P = dfs[key]['P cms^-1'].to_numpy().astype(float)\n",
    "    rel_err = rel_err[P > 0]\n",
    "    P = P[P > 0]\n",
    "\n",
    "    color = plt.rcParams['axes.prop_cycle'].by_key()['color'][i]\n",
    "    if i == 2:\n",
    "        color = 'g'\n",
    "    if i == 3:\n",
    "        color = 'C1'\n",
    "    ax.hist(np.log10(P[rel_err < 0.1]),bins[key],label = key,alpha = 0.3,color = color,\n",
    "            edgecolor = color)\n",
    "    \n",
    "x_lab = [-8,-6.5,-5]\n",
    "y_lab = [0,10,20]\n",
    "\n",
    "ax.set_xticks(x_lab)\n",
    "ax.set_xticklabels(x_lab,fontsize = 15)\n",
    "\n",
    "ax.set_yticks(y_lab)\n",
    "ax.set_yticklabels(y_lab,fontsize = 15)\n",
    "\n",
    "ax.set_xlim([-8.5,-4.5])\n",
    "ax.set_ylim([0,20])\n",
    "\n",
    "# ax.set_title(key)\n",
    "\n",
    "ax.set_xlabel('$Log_{10} (P [cms^{-1}])$',fontsize = 18)\n",
    "ax.set_ylabel('# GUVs',fontsize = 18)\n",
    "# plt.legend()\n",
    "\n",
    "plt.tick_params(direction = 'in',top= True, right = True,left = True, bottom = True, length = 6)\n"
   ]
  },
  {
   "cell_type": "code",
   "execution_count": null,
   "metadata": {},
   "outputs": [],
   "source": []
  },
  {
   "cell_type": "code",
   "execution_count": 26,
   "metadata": {},
   "outputs": [
    {
     "name": "stdout",
     "output_type": "stream",
     "text": [
      "GramA 2.6nM\n",
      "GramA 260pM20210920\n",
      "GUV\n",
      "OmpF\n"
     ]
    }
   ],
   "source": [
    "# now when happy with the settings arrange on one plot\n",
    "fig, ax  = plt.subplots(1,1)\n",
    "\n",
    "bins = {'GramA 2.6nM': 9, 'GramA 260pM20210920': 5,'GUV':8,'OmpF':6}\n",
    "for i,key in enumerate(dfs.keys()):\n",
    "    print(key)\n",
    "    if key not in ['GramA 2.6nM','GramA 260pM20210920']:\n",
    "        continue\n",
    "    rel_err = dfs[key]['dP/P'].to_numpy().astype(float)\n",
    "    P = dfs[key]['P cms^-1'].to_numpy().astype(float)\n",
    "    rel_err = rel_err[P > 0]\n",
    "    P = P[P > 0]\n",
    "\n",
    "    color = plt.rcParams['axes.prop_cycle'].by_key()['color'][i]\n",
    "    \n",
    "    ax.hist(np.log10(P[rel_err < 0.1]),bins[key],label = key,alpha = 0.3,\n",
    "            edgecolor = color)\n",
    "    \n",
    "x_lab = [-7,-6.5,-6]\n",
    "y_lab = [0,10,20,30]\n",
    "\n",
    "ax.set_xticks(x_lab)\n",
    "ax.set_xticklabels(x_lab,fontsize = 15)\n",
    "\n",
    "ax.set_yticks(y_lab)\n",
    "ax.set_yticklabels(y_lab,fontsize = 15)\n",
    "\n",
    "ax.set_xlim([-7.5,-5.5])\n",
    "ax.set_ylim([0,31])\n",
    "\n",
    "# ax.set_title(key)\n",
    "\n",
    "ax.set_xlabel('$Log_{10} (P [cms^{-1}])$',fontsize = 18)\n",
    "ax.set_ylabel('# GUVs',fontsize = 18)\n",
    "# plt.legend(\n",
    "\n",
    "plt.tick_params(direction = 'in',top= True, right = True,left = True, bottom = True, length = 6)\n"
   ]
  },
  {
   "cell_type": "markdown",
   "metadata": {},
   "source": [
    "# Fit conductance vs concentration for OmpF\n"
   ]
  },
  {
   "cell_type": "code",
   "execution_count": 25,
   "metadata": {},
   "outputs": [],
   "source": [
    "dfGvsK = pd.DataFrame({'[K][molm^-3]': [100,500,1000,1500],'G [S]':[0.5e-9,2e-9,4.5e-9,5.25e-9]})"
   ]
  },
  {
   "cell_type": "code",
   "execution_count": 26,
   "metadata": {},
   "outputs": [],
   "source": [
    "# fitting function\n",
    "\n",
    "def GfromC(C,P):\n",
    "    F = 96485\n",
    "    R = 8.31\n",
    "    T = 298\n",
    "    \n",
    "    return (F**2*C*P)/(R*T)\n",
    "\n",
    "guess = [2e-18]\n",
    "\n",
    "# fit using curve fitabs\n",
    "params = curve_fit(GfromC,dfGvsK['[K][molm^-3]'],dfGvsK['G [S]'],p0 = guess)"
   ]
  },
  {
   "cell_type": "code",
   "execution_count": 51,
   "metadata": {},
   "outputs": [
    {
     "data": {
      "text/plain": [
       "(array([1.01743076e-18]), array([[4.80305164e-39]]))"
      ]
     },
     "execution_count": 51,
     "metadata": {},
     "output_type": "execute_result"
    }
   ],
   "source": [
    "\n"
   ]
  },
  {
   "cell_type": "code",
   "execution_count": 27,
   "metadata": {
    "scrolled": true
   },
   "outputs": [],
   "source": [
    "#{ key: [Conductance,Potassium concentration when measured]}\n",
    "\n",
    "conductances = {'OmpF':[8e-10,100],'GramA':[1.4e-11,100]}\n",
    "\n",
    "\n",
    "def PfromG(G,C,R = 8.31,T = 298,F = 96485):\n",
    "    #make sure C is given as molm^-3 for units to make sense\n",
    "    #also G given as Siemens (Amperes/Volts)\n",
    "    \n",
    "    #returns P in m^3/s\n",
    "    return G*(R*T)/(F**2*C)\n",
    "   \n",
    "    \n",
    "    \n",
    "exp_one_P = {key: PfromG(*conductances[key]) for key in conductances.keys()}"
   ]
  },
  {
   "cell_type": "code",
   "execution_count": 28,
   "metadata": {},
   "outputs": [],
   "source": [
    "# use fit for permeability of one OmpF pore\n",
    "\n",
    "exp_one_P['OmpF'] = params[0]"
   ]
  },
  {
   "cell_type": "code",
   "execution_count": 29,
   "metadata": {},
   "outputs": [],
   "source": [
    "App = 3.16 #um^2\n",
    "for key in exps:\n",
    "    \n",
    "    if key == 'GUV':\n",
    "        continue\n",
    "        \n",
    "    if key.find('GramA') != -1:\n",
    "        id_ = 'GramA'\n",
    "        \n",
    "    else:\n",
    "        id_  = key\n",
    "        \n",
    "    dfs[key]['P1_exp ms^-1'] = exp_one_P[id_]/(dfs[key]['A']*App*1e-12)\n",
    "    dfs[key]['N'] = dfs[key]['P ms^-1']/dfs[key]['P1_exp ms^-1']"
   ]
  },
  {
   "cell_type": "code",
   "execution_count": 30,
   "metadata": {},
   "outputs": [
    {
     "name": "stderr",
     "output_type": "stream",
     "text": [
      "/home/marcus/anaconda3/lib/python3.7/site-packages/pandas/core/indexing.py:190: SettingWithCopyWarning: \n",
      "A value is trying to be set on a copy of a slice from a DataFrame\n",
      "\n",
      "See the caveats in the documentation: http://pandas.pydata.org/pandas-docs/stable/indexing.html#indexing-view-versus-copy\n",
      "  self._setitem_with_indexer(indexer, value)\n"
     ]
    }
   ],
   "source": [
    "# process Number of pores per GUV to make sense\n",
    "key = 'OmpF'\n",
    "\n",
    "\n",
    "dfs[key]['N'].iloc[dfs[key]['N'].to_numpy().astype(float) < 0] = 0"
   ]
  },
  {
   "cell_type": "code",
   "execution_count": 35,
   "metadata": {},
   "outputs": [],
   "source": [
    "%matplotlib qt\n",
    "fig, axs  = plt.subplots(1,len(dfs.keys()))\n",
    "\n",
    "for i,key in enumerate(dfs.keys()):\n",
    "    \n",
    "    if key == 'GUV':\n",
    "        continue\n",
    "    rel_err = dfs[key]['dP/P'].to_numpy().astype(float)\n",
    "    N = dfs[key]['N'].to_numpy().astype(float)\n",
    "    rel_err = rel_err[N > 0]\n",
    "    N = N[N > 0]\n",
    "\n",
    "    if key == 'OmpF':\n",
    "        axs[i].hist(N[rel_err < 0.1],'sqrt')\n",
    "        \n",
    "    else:\n",
    "        axs[i].hist(np.log10(N[rel_err < 0.1]),'sqrt')\n",
    "    axs[i].set_title(key)"
   ]
  },
  {
   "cell_type": "code",
   "execution_count": 37,
   "metadata": {},
   "outputs": [
    {
     "data": {
      "text/plain": [
       "(1.9, 4.1)"
      ]
     },
     "execution_count": 37,
     "metadata": {},
     "output_type": "execute_result"
    }
   ],
   "source": [
    "# Gramicidin A plot\n",
    "\n",
    "keys = ['GramA 2.6nM','GramA 260pM20210920']\n",
    "\n",
    "fig, ax = plt.subplots(1,1)\n",
    "\n",
    "\n",
    "for i,key in enumerate(keys):\n",
    "\n",
    "    rel_err = dfs[key]['dP/P'].to_numpy().astype(float)\n",
    "    N = dfs[key]['N'].to_numpy().astype(float)\n",
    "    \n",
    "    color = plt.rcParams['axes.prop_cycle'].by_key()['color'][i]\n",
    "    ax.hist(np.log10(N[rel_err < 0.1]),5,label = key,alpha = 0.3,\n",
    "            edgecolor = color)\n",
    "    \n",
    "\n",
    "x_ticks = [2,3,4]\n",
    "y_ticks= [0,10,20,30]\n",
    "\n",
    "  \n",
    "plt.tick_params(direction = 'in',top= True, right = True,left = True, bottom = True, length = 6)\n",
    "\n",
    "ax.set_xticks(x_ticks)\n",
    "ax.set_xticklabels(x_ticks,fontsize = 15)\n",
    "ax.set_yticks(y_ticks)\n",
    "ax.set_yticklabels(y_ticks,fontsize = 15)\n",
    "\n",
    "ax.set_ylabel('# GUVs',fontsize = 18)\n",
    "ax.set_xlabel('$Log_{10}$(No. of pores per GUV)', fontsize = 18)\n",
    "\n",
    "ax.set_xlim([1.9,4.1])\n",
    "# plt.legend()\n"
   ]
  },
  {
   "cell_type": "code",
   "execution_count": null,
   "metadata": {},
   "outputs": [],
   "source": []
  },
  {
   "cell_type": "code",
   "execution_count": 43,
   "metadata": {},
   "outputs": [
    {
     "data": {
      "text/plain": [
       "Text(0.5, 0, '$No. of pores per GUV')"
      ]
     },
     "execution_count": 43,
     "metadata": {},
     "output_type": "execute_result"
    }
   ],
   "source": [
    "# OmpF plot\n",
    "keys = ['OmpF']\n",
    "\n",
    "fig, ax = plt.subplots(1,1)\n",
    "\n",
    "\n",
    "for i,key in enumerate(keys):\n",
    "\n",
    "    rel_err = dfs[key]['dP/P'].to_numpy().astype(float)\n",
    "    N = dfs[key]['N'].to_numpy().astype(float)\n",
    "    \n",
    "    color = plt.rcParams['axes.prop_cycle'].by_key()['color'][i]\n",
    "    ax.hist(N[rel_err < 0.1],6,label = key,alpha = 0.3,\n",
    "            edgecolor = color)\n",
    "    \n",
    "\n",
    "x_ticks = [0,8,16,24]\n",
    "y_ticks= [0,4,8]\n",
    "\n",
    "  \n",
    "plt.tick_params(direction = 'in',top= True, right = True,left = True, bottom = True, length = 6)\n",
    "\n",
    "ax.set_xticks(x_ticks)\n",
    "ax.set_xticklabels(x_ticks,fontsize = 15)\n",
    "ax.set_yticks(y_ticks)\n",
    "ax.set_yticklabels(y_ticks,fontsize = 15)\n",
    "\n",
    "ax.set_ylabel('# GUVs',fontsize = 18)\n",
    "ax.set_xlabel('$No. of pores per GUV', fontsize = 18)\n",
    "\n",
    "# ax.set_xlim([1.9,4.1])\n",
    "# plt.legend()\n",
    "# "
   ]
  },
  {
   "cell_type": "code",
   "execution_count": null,
   "metadata": {},
   "outputs": [],
   "source": []
  }
 ],
 "metadata": {
  "kernelspec": {
   "display_name": "Python 3",
   "language": "python",
   "name": "python3"
  },
  "language_info": {
   "codemirror_mode": {
    "name": "ipython",
    "version": 3
   },
   "file_extension": ".py",
   "mimetype": "text/x-python",
   "name": "python",
   "nbconvert_exporter": "python",
   "pygments_lexer": "ipython3",
   "version": "3.7.3"
  }
 },
 "nbformat": 4,
 "nbformat_minor": 2
}
